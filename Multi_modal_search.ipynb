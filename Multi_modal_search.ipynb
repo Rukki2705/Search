{
  "nbformat": 4,
  "nbformat_minor": 0,
  "metadata": {
    "colab": {
      "provenance": []
    },
    "kernelspec": {
      "name": "python3",
      "display_name": "Python 3"
    },
    "language_info": {
      "name": "python"
    }
  },
  "cells": [
    {
      "cell_type": "markdown",
      "source": [
        "[![Open In Colab](https://colab.research.google.com/assets/colab-badge.svg)](https://colab.research.google.com/drive/1QsmCrSZVkvxUkv6keRbrqW2elqmlRX02?authuser=4#scrollTo=lecJLkKB_dKz)\n"
      ],
      "metadata": {
        "id": "lecJLkKB_dKz"
      }
    },
    {
      "cell_type": "code",
      "source": [
        "\n",
        "\n",
        "# Clone the repository\n",
        "!git clone https://github.com/Rukki2705/Multi-Modal-Search\n",
        "\n",
        "%cd Multi-Modal-Search\n",
        "# Install dependencies from requirements.txt\n",
        "!pip install -r requirements.txt\n",
        "\n",
        "print(\"----------------------------------------------------------------------\\n\")\n",
        "\n",
        "! wget -q -O - ipv4.icanhazip.com\n",
        "\n",
        "\n",
        "! streamlit run app.py & npx localtunnel --port 8501"
      ],
      "metadata": {
        "id": "WygJ6Ubs7pMX"
      },
      "execution_count": null,
      "outputs": []
    }
  ]
}